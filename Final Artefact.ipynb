{
 "cells": [
  {
   "cell_type": "markdown",
   "metadata": {},
   "source": [
    "## IMPORTING THE REQUIRED LIBRARIES"
   ]
  },
  {
   "cell_type": "code",
   "execution_count": 1,
   "metadata": {},
   "outputs": [
    {
     "name": "stderr",
     "output_type": "stream",
     "text": [
      "Using TensorFlow backend.\n"
     ]
    }
   ],
   "source": [
    "#Make sure all the following libraries are installed before running the application. \n",
    "import pandas as pd\n",
    "import numpy as np\n",
    "import sklearn\n",
    "from sklearn.utils import shuffle\n",
    "from sklearn.metrics import *\n",
    "from sklearn.preprocessing import StandardScaler\n",
    "from sklearn.model_selection import train_test_split\n",
    "from sklearn.preprocessing import LabelEncoder\n",
    "import matplotlib.pyplot as plt\n",
    "import warnings\n",
    "\n",
    "from keras.preprocessing import sequence\n",
    "from keras import optimizers\n",
    "from keras.utils import np_utils\n",
    "from keras.models import Sequential\n",
    "from keras.layers import Dense, Dropout, Activation, Embedding, SimpleRNN, BatchNormalization\n",
    "from keras.models import model_from_json\n",
    "\n",
    "warnings.filterwarnings(\"ignore\")\n",
    "%matplotlib inline\n",
    "\n"
   ]
  },
  {
   "cell_type": "markdown",
   "metadata": {},
   "source": [
    "## LOADING TRAINING AND TESTING DATA"
   ]
  },
  {
   "cell_type": "code",
   "execution_count": 2,
   "metadata": {},
   "outputs": [],
   "source": [
    "#load the csv file containing the column names \n",
    "column_name = pd.read_csv(\"Field Names.csv\", header = None)"
   ]
  },
  {
   "cell_type": "code",
   "execution_count": 3,
   "metadata": {},
   "outputs": [],
   "source": [
    "#Convert the array into list\n",
    "new_columns = list(column_name[0].values)"
   ]
  },
  {
   "cell_type": "code",
   "execution_count": 4,
   "metadata": {},
   "outputs": [],
   "source": [
    "#adding difficulty \n",
    "new_columns += ['class', 'difficulty']"
   ]
  },
  {
   "cell_type": "code",
   "execution_count": 5,
   "metadata": {},
   "outputs": [],
   "source": [
    "#loading train and test data files\n",
    "train_data = pd.read_csv('KDDTrain+.txt', names = new_columns)\n",
    "test_data = pd.read_csv('KDDTest+.txt', names = new_columns)"
   ]
  },
  {
   "cell_type": "code",
   "execution_count": 6,
   "metadata": {
    "scrolled": true
   },
   "outputs": [
    {
     "name": "stdout",
     "output_type": "stream",
     "text": [
      "The training data is\n"
     ]
    },
    {
     "data": {
      "text/html": [
       "<div>\n",
       "<style scoped>\n",
       "    .dataframe tbody tr th:only-of-type {\n",
       "        vertical-align: middle;\n",
       "    }\n",
       "\n",
       "    .dataframe tbody tr th {\n",
       "        vertical-align: top;\n",
       "    }\n",
       "\n",
       "    .dataframe thead th {\n",
       "        text-align: right;\n",
       "    }\n",
       "</style>\n",
       "<table border=\"1\" class=\"dataframe\">\n",
       "  <thead>\n",
       "    <tr style=\"text-align: right;\">\n",
       "      <th></th>\n",
       "      <th>duration</th>\n",
       "      <th>protocol_type</th>\n",
       "      <th>service</th>\n",
       "      <th>flag</th>\n",
       "      <th>src_bytes</th>\n",
       "      <th>dst_bytes</th>\n",
       "      <th>land</th>\n",
       "      <th>wrong_fragment</th>\n",
       "      <th>urgent</th>\n",
       "      <th>hot</th>\n",
       "      <th>...</th>\n",
       "      <th>dst_host_same_srv_rate</th>\n",
       "      <th>dst_host_diff_srv_rate</th>\n",
       "      <th>dst_host_same_src_port_rate</th>\n",
       "      <th>dst_host_srv_diff_host_rate</th>\n",
       "      <th>dst_host_serror_rate</th>\n",
       "      <th>dst_host_srv_serror_rate</th>\n",
       "      <th>dst_host_rerror_rate</th>\n",
       "      <th>dst_host_srv_rerror_rate</th>\n",
       "      <th>class</th>\n",
       "      <th>difficulty</th>\n",
       "    </tr>\n",
       "  </thead>\n",
       "  <tbody>\n",
       "    <tr>\n",
       "      <th>125968</th>\n",
       "      <td>0</td>\n",
       "      <td>tcp</td>\n",
       "      <td>private</td>\n",
       "      <td>S0</td>\n",
       "      <td>0</td>\n",
       "      <td>0</td>\n",
       "      <td>0</td>\n",
       "      <td>0</td>\n",
       "      <td>0</td>\n",
       "      <td>0</td>\n",
       "      <td>...</td>\n",
       "      <td>0.10</td>\n",
       "      <td>0.06</td>\n",
       "      <td>0.00</td>\n",
       "      <td>0.0</td>\n",
       "      <td>1.00</td>\n",
       "      <td>1.0</td>\n",
       "      <td>0.00</td>\n",
       "      <td>0.0</td>\n",
       "      <td>neptune</td>\n",
       "      <td>20</td>\n",
       "    </tr>\n",
       "    <tr>\n",
       "      <th>125969</th>\n",
       "      <td>8</td>\n",
       "      <td>udp</td>\n",
       "      <td>private</td>\n",
       "      <td>SF</td>\n",
       "      <td>105</td>\n",
       "      <td>145</td>\n",
       "      <td>0</td>\n",
       "      <td>0</td>\n",
       "      <td>0</td>\n",
       "      <td>0</td>\n",
       "      <td>...</td>\n",
       "      <td>0.96</td>\n",
       "      <td>0.01</td>\n",
       "      <td>0.01</td>\n",
       "      <td>0.0</td>\n",
       "      <td>0.00</td>\n",
       "      <td>0.0</td>\n",
       "      <td>0.00</td>\n",
       "      <td>0.0</td>\n",
       "      <td>normal</td>\n",
       "      <td>21</td>\n",
       "    </tr>\n",
       "    <tr>\n",
       "      <th>125970</th>\n",
       "      <td>0</td>\n",
       "      <td>tcp</td>\n",
       "      <td>smtp</td>\n",
       "      <td>SF</td>\n",
       "      <td>2231</td>\n",
       "      <td>384</td>\n",
       "      <td>0</td>\n",
       "      <td>0</td>\n",
       "      <td>0</td>\n",
       "      <td>0</td>\n",
       "      <td>...</td>\n",
       "      <td>0.12</td>\n",
       "      <td>0.06</td>\n",
       "      <td>0.00</td>\n",
       "      <td>0.0</td>\n",
       "      <td>0.72</td>\n",
       "      <td>0.0</td>\n",
       "      <td>0.01</td>\n",
       "      <td>0.0</td>\n",
       "      <td>normal</td>\n",
       "      <td>18</td>\n",
       "    </tr>\n",
       "    <tr>\n",
       "      <th>125971</th>\n",
       "      <td>0</td>\n",
       "      <td>tcp</td>\n",
       "      <td>klogin</td>\n",
       "      <td>S0</td>\n",
       "      <td>0</td>\n",
       "      <td>0</td>\n",
       "      <td>0</td>\n",
       "      <td>0</td>\n",
       "      <td>0</td>\n",
       "      <td>0</td>\n",
       "      <td>...</td>\n",
       "      <td>0.03</td>\n",
       "      <td>0.05</td>\n",
       "      <td>0.00</td>\n",
       "      <td>0.0</td>\n",
       "      <td>1.00</td>\n",
       "      <td>1.0</td>\n",
       "      <td>0.00</td>\n",
       "      <td>0.0</td>\n",
       "      <td>neptune</td>\n",
       "      <td>20</td>\n",
       "    </tr>\n",
       "    <tr>\n",
       "      <th>125972</th>\n",
       "      <td>0</td>\n",
       "      <td>tcp</td>\n",
       "      <td>ftp_data</td>\n",
       "      <td>SF</td>\n",
       "      <td>151</td>\n",
       "      <td>0</td>\n",
       "      <td>0</td>\n",
       "      <td>0</td>\n",
       "      <td>0</td>\n",
       "      <td>0</td>\n",
       "      <td>...</td>\n",
       "      <td>0.30</td>\n",
       "      <td>0.03</td>\n",
       "      <td>0.30</td>\n",
       "      <td>0.0</td>\n",
       "      <td>0.00</td>\n",
       "      <td>0.0</td>\n",
       "      <td>0.00</td>\n",
       "      <td>0.0</td>\n",
       "      <td>normal</td>\n",
       "      <td>21</td>\n",
       "    </tr>\n",
       "  </tbody>\n",
       "</table>\n",
       "<p>5 rows × 43 columns</p>\n",
       "</div>"
      ],
      "text/plain": [
       "        duration protocol_type   service flag  src_bytes  dst_bytes  land  \\\n",
       "125968         0           tcp   private   S0          0          0     0   \n",
       "125969         8           udp   private   SF        105        145     0   \n",
       "125970         0           tcp      smtp   SF       2231        384     0   \n",
       "125971         0           tcp    klogin   S0          0          0     0   \n",
       "125972         0           tcp  ftp_data   SF        151          0     0   \n",
       "\n",
       "        wrong_fragment  urgent  hot  ...  dst_host_same_srv_rate  \\\n",
       "125968               0       0    0  ...                    0.10   \n",
       "125969               0       0    0  ...                    0.96   \n",
       "125970               0       0    0  ...                    0.12   \n",
       "125971               0       0    0  ...                    0.03   \n",
       "125972               0       0    0  ...                    0.30   \n",
       "\n",
       "        dst_host_diff_srv_rate  dst_host_same_src_port_rate  \\\n",
       "125968                    0.06                         0.00   \n",
       "125969                    0.01                         0.01   \n",
       "125970                    0.06                         0.00   \n",
       "125971                    0.05                         0.00   \n",
       "125972                    0.03                         0.30   \n",
       "\n",
       "        dst_host_srv_diff_host_rate  dst_host_serror_rate  \\\n",
       "125968                          0.0                  1.00   \n",
       "125969                          0.0                  0.00   \n",
       "125970                          0.0                  0.72   \n",
       "125971                          0.0                  1.00   \n",
       "125972                          0.0                  0.00   \n",
       "\n",
       "        dst_host_srv_serror_rate  dst_host_rerror_rate  \\\n",
       "125968                       1.0                  0.00   \n",
       "125969                       0.0                  0.00   \n",
       "125970                       0.0                  0.01   \n",
       "125971                       1.0                  0.00   \n",
       "125972                       0.0                  0.00   \n",
       "\n",
       "        dst_host_srv_rerror_rate    class  difficulty  \n",
       "125968                       0.0  neptune          20  \n",
       "125969                       0.0   normal          21  \n",
       "125970                       0.0   normal          18  \n",
       "125971                       0.0  neptune          20  \n",
       "125972                       0.0   normal          21  \n",
       "\n",
       "[5 rows x 43 columns]"
      ]
     },
     "execution_count": 6,
     "metadata": {},
     "output_type": "execute_result"
    }
   ],
   "source": [
    "#Training data sample\n",
    "print(\"The training data is\")\n",
    "train_data.tail()"
   ]
  },
  {
   "cell_type": "code",
   "execution_count": 7,
   "metadata": {},
   "outputs": [
    {
     "name": "stdout",
     "output_type": "stream",
     "text": [
      "The shape of the training dataframe is : (125973, 43)\n"
     ]
    }
   ],
   "source": [
    "#Output total rows and columns of dataframe\n",
    "print(f\"The shape of the training dataframe is : {train_data.shape}\")"
   ]
  },
  {
   "cell_type": "code",
   "execution_count": 8,
   "metadata": {},
   "outputs": [
    {
     "name": "stdout",
     "output_type": "stream",
     "text": [
      "The testing data is\n"
     ]
    },
    {
     "data": {
      "text/html": [
       "<div>\n",
       "<style scoped>\n",
       "    .dataframe tbody tr th:only-of-type {\n",
       "        vertical-align: middle;\n",
       "    }\n",
       "\n",
       "    .dataframe tbody tr th {\n",
       "        vertical-align: top;\n",
       "    }\n",
       "\n",
       "    .dataframe thead th {\n",
       "        text-align: right;\n",
       "    }\n",
       "</style>\n",
       "<table border=\"1\" class=\"dataframe\">\n",
       "  <thead>\n",
       "    <tr style=\"text-align: right;\">\n",
       "      <th></th>\n",
       "      <th>duration</th>\n",
       "      <th>protocol_type</th>\n",
       "      <th>service</th>\n",
       "      <th>flag</th>\n",
       "      <th>src_bytes</th>\n",
       "      <th>dst_bytes</th>\n",
       "      <th>land</th>\n",
       "      <th>wrong_fragment</th>\n",
       "      <th>urgent</th>\n",
       "      <th>hot</th>\n",
       "      <th>...</th>\n",
       "      <th>dst_host_same_srv_rate</th>\n",
       "      <th>dst_host_diff_srv_rate</th>\n",
       "      <th>dst_host_same_src_port_rate</th>\n",
       "      <th>dst_host_srv_diff_host_rate</th>\n",
       "      <th>dst_host_serror_rate</th>\n",
       "      <th>dst_host_srv_serror_rate</th>\n",
       "      <th>dst_host_rerror_rate</th>\n",
       "      <th>dst_host_srv_rerror_rate</th>\n",
       "      <th>class</th>\n",
       "      <th>difficulty</th>\n",
       "    </tr>\n",
       "  </thead>\n",
       "  <tbody>\n",
       "    <tr>\n",
       "      <th>0</th>\n",
       "      <td>0</td>\n",
       "      <td>tcp</td>\n",
       "      <td>private</td>\n",
       "      <td>REJ</td>\n",
       "      <td>0</td>\n",
       "      <td>0</td>\n",
       "      <td>0</td>\n",
       "      <td>0</td>\n",
       "      <td>0</td>\n",
       "      <td>0</td>\n",
       "      <td>...</td>\n",
       "      <td>0.04</td>\n",
       "      <td>0.06</td>\n",
       "      <td>0.00</td>\n",
       "      <td>0.00</td>\n",
       "      <td>0.0</td>\n",
       "      <td>0.0</td>\n",
       "      <td>1.00</td>\n",
       "      <td>1.00</td>\n",
       "      <td>neptune</td>\n",
       "      <td>21</td>\n",
       "    </tr>\n",
       "    <tr>\n",
       "      <th>1</th>\n",
       "      <td>0</td>\n",
       "      <td>tcp</td>\n",
       "      <td>private</td>\n",
       "      <td>REJ</td>\n",
       "      <td>0</td>\n",
       "      <td>0</td>\n",
       "      <td>0</td>\n",
       "      <td>0</td>\n",
       "      <td>0</td>\n",
       "      <td>0</td>\n",
       "      <td>...</td>\n",
       "      <td>0.00</td>\n",
       "      <td>0.06</td>\n",
       "      <td>0.00</td>\n",
       "      <td>0.00</td>\n",
       "      <td>0.0</td>\n",
       "      <td>0.0</td>\n",
       "      <td>1.00</td>\n",
       "      <td>1.00</td>\n",
       "      <td>neptune</td>\n",
       "      <td>21</td>\n",
       "    </tr>\n",
       "    <tr>\n",
       "      <th>2</th>\n",
       "      <td>2</td>\n",
       "      <td>tcp</td>\n",
       "      <td>ftp_data</td>\n",
       "      <td>SF</td>\n",
       "      <td>12983</td>\n",
       "      <td>0</td>\n",
       "      <td>0</td>\n",
       "      <td>0</td>\n",
       "      <td>0</td>\n",
       "      <td>0</td>\n",
       "      <td>...</td>\n",
       "      <td>0.61</td>\n",
       "      <td>0.04</td>\n",
       "      <td>0.61</td>\n",
       "      <td>0.02</td>\n",
       "      <td>0.0</td>\n",
       "      <td>0.0</td>\n",
       "      <td>0.00</td>\n",
       "      <td>0.00</td>\n",
       "      <td>normal</td>\n",
       "      <td>21</td>\n",
       "    </tr>\n",
       "    <tr>\n",
       "      <th>3</th>\n",
       "      <td>0</td>\n",
       "      <td>icmp</td>\n",
       "      <td>eco_i</td>\n",
       "      <td>SF</td>\n",
       "      <td>20</td>\n",
       "      <td>0</td>\n",
       "      <td>0</td>\n",
       "      <td>0</td>\n",
       "      <td>0</td>\n",
       "      <td>0</td>\n",
       "      <td>...</td>\n",
       "      <td>1.00</td>\n",
       "      <td>0.00</td>\n",
       "      <td>1.00</td>\n",
       "      <td>0.28</td>\n",
       "      <td>0.0</td>\n",
       "      <td>0.0</td>\n",
       "      <td>0.00</td>\n",
       "      <td>0.00</td>\n",
       "      <td>saint</td>\n",
       "      <td>15</td>\n",
       "    </tr>\n",
       "    <tr>\n",
       "      <th>4</th>\n",
       "      <td>1</td>\n",
       "      <td>tcp</td>\n",
       "      <td>telnet</td>\n",
       "      <td>RSTO</td>\n",
       "      <td>0</td>\n",
       "      <td>15</td>\n",
       "      <td>0</td>\n",
       "      <td>0</td>\n",
       "      <td>0</td>\n",
       "      <td>0</td>\n",
       "      <td>...</td>\n",
       "      <td>0.31</td>\n",
       "      <td>0.17</td>\n",
       "      <td>0.03</td>\n",
       "      <td>0.02</td>\n",
       "      <td>0.0</td>\n",
       "      <td>0.0</td>\n",
       "      <td>0.83</td>\n",
       "      <td>0.71</td>\n",
       "      <td>mscan</td>\n",
       "      <td>11</td>\n",
       "    </tr>\n",
       "  </tbody>\n",
       "</table>\n",
       "<p>5 rows × 43 columns</p>\n",
       "</div>"
      ],
      "text/plain": [
       "   duration protocol_type   service  flag  src_bytes  dst_bytes  land  \\\n",
       "0         0           tcp   private   REJ          0          0     0   \n",
       "1         0           tcp   private   REJ          0          0     0   \n",
       "2         2           tcp  ftp_data    SF      12983          0     0   \n",
       "3         0          icmp     eco_i    SF         20          0     0   \n",
       "4         1           tcp    telnet  RSTO          0         15     0   \n",
       "\n",
       "   wrong_fragment  urgent  hot  ...  dst_host_same_srv_rate  \\\n",
       "0               0       0    0  ...                    0.04   \n",
       "1               0       0    0  ...                    0.00   \n",
       "2               0       0    0  ...                    0.61   \n",
       "3               0       0    0  ...                    1.00   \n",
       "4               0       0    0  ...                    0.31   \n",
       "\n",
       "   dst_host_diff_srv_rate  dst_host_same_src_port_rate  \\\n",
       "0                    0.06                         0.00   \n",
       "1                    0.06                         0.00   \n",
       "2                    0.04                         0.61   \n",
       "3                    0.00                         1.00   \n",
       "4                    0.17                         0.03   \n",
       "\n",
       "   dst_host_srv_diff_host_rate  dst_host_serror_rate  \\\n",
       "0                         0.00                   0.0   \n",
       "1                         0.00                   0.0   \n",
       "2                         0.02                   0.0   \n",
       "3                         0.28                   0.0   \n",
       "4                         0.02                   0.0   \n",
       "\n",
       "   dst_host_srv_serror_rate  dst_host_rerror_rate  dst_host_srv_rerror_rate  \\\n",
       "0                       0.0                  1.00                      1.00   \n",
       "1                       0.0                  1.00                      1.00   \n",
       "2                       0.0                  0.00                      0.00   \n",
       "3                       0.0                  0.00                      0.00   \n",
       "4                       0.0                  0.83                      0.71   \n",
       "\n",
       "     class  difficulty  \n",
       "0  neptune          21  \n",
       "1  neptune          21  \n",
       "2   normal          21  \n",
       "3    saint          15  \n",
       "4    mscan          11  \n",
       "\n",
       "[5 rows x 43 columns]"
      ]
     },
     "execution_count": 8,
     "metadata": {},
     "output_type": "execute_result"
    }
   ],
   "source": [
    "#Same for testing\n",
    "print(\"The testing data is\")\n",
    "test_data.head()"
   ]
  },
  {
   "cell_type": "code",
   "execution_count": 9,
   "metadata": {},
   "outputs": [
    {
     "name": "stdout",
     "output_type": "stream",
     "text": [
      "The shape of the testing dataframe is : (22544, 43)\n"
     ]
    }
   ],
   "source": [
    "#Idem dito ^\n",
    "print(f\"The shape of the testing dataframe is : {test_data.shape}\")"
   ]
  },
  {
   "cell_type": "code",
   "execution_count": 10,
   "metadata": {},
   "outputs": [],
   "source": [
    "#Load attacks.txt containing the attack categories\n",
    "map_attacks = [x.strip().split() for x in open('attacks.txt', 'r')]\n",
    "map_attacks = {k:v for (k,v) in map_attacks}"
   ]
  },
  {
   "cell_type": "code",
   "execution_count": 11,
   "metadata": {},
   "outputs": [],
   "source": [
    "#Replace the \"class\" column values to 5 attack categories in training and testing dataframe\n",
    "train_data['class'] = train_data['class'].replace(map_attacks)\n",
    "test_data['class'] = test_data['class'].replace(map_attacks)"
   ]
  },
  {
   "cell_type": "code",
   "execution_count": 12,
   "metadata": {},
   "outputs": [],
   "source": [
    "train_data = shuffle(train_data)"
   ]
  },
  {
   "cell_type": "markdown",
   "metadata": {},
   "source": [
    "## DATA PREPROCESSING"
   ]
  },
  {
   "cell_type": "code",
   "execution_count": 13,
   "metadata": {},
   "outputs": [],
   "source": [
    "#separate the training dataframe into feature columns and label columns\n",
    "X = train_data.drop('class', axis = 1) #Independent features\n",
    "y = train_data['class'] #Dependent features (Labels)"
   ]
  },
  {
   "cell_type": "code",
   "execution_count": 14,
   "metadata": {},
   "outputs": [],
   "source": [
    "#Converting String to Integer with get_dummies by pandas\n",
    "columns = ['protocol_type', 'service', 'flag']\n",
    "X_new = pd.get_dummies(X, columns = columns, drop_first = True)"
   ]
  },
  {
   "cell_type": "code",
   "execution_count": 15,
   "metadata": {},
   "outputs": [],
   "source": [
    "#Idem dito for class ^\n",
    "y_new = train_data['class']\n",
    "y_new = pd.get_dummies(y_new)"
   ]
  },
  {
   "cell_type": "code",
   "execution_count": 16,
   "metadata": {},
   "outputs": [],
   "source": [
    "#Split data: 80% training and 20% testing \n",
    "X_train, X_test, y_train, y_test = train_test_split(X_new, y_new, test_size = 0.2, random_state = 101)"
   ]
  },
  {
   "cell_type": "code",
   "execution_count": 17,
   "metadata": {},
   "outputs": [],
   "source": [
    "#Use StandardScaler() to standardize data - explained in Honours Project\n",
    "sc = StandardScaler()\n",
    "sc.fit(np.array(X_train))\n",
    "X_train = sc.transform(X_train)\n",
    "X_test = sc.transform(X_test)"
   ]
  },
  {
   "cell_type": "markdown",
   "metadata": {},
   "source": [
    "MODEL 1: "
   ]
  },
  {
   "cell_type": "markdown",
   "metadata": {},
   "source": [
    "First model. This model contains all the dense layers. In dense layers each node or neuron in a layer is connected to all the nodes/neurons in the preceding layer, further explained in Honours Document. "
   ]
  },
  {
   "cell_type": "code",
   "execution_count": 18,
   "metadata": {},
   "outputs": [
    {
     "name": "stderr",
     "output_type": "stream",
     "text": [
      "WARNING: Logging before flag parsing goes to stderr.\n",
      "W0128 10:20:14.529850 35184372372032 module_wrapper.py:139] From /net/service0005/share/systems/satori-portal.mit.edu/software/anaconda3/2019.10_powerai_ood/envs/powerai/lib/python3.7/site-packages/keras/backend/tensorflow_backend.py:66: The name tf.get_default_graph is deprecated. Please use tf.compat.v1.get_default_graph instead.\n",
      "\n",
      "W0128 10:20:14.532920 35184372372032 module_wrapper.py:139] From /net/service0005/share/systems/satori-portal.mit.edu/software/anaconda3/2019.10_powerai_ood/envs/powerai/lib/python3.7/site-packages/keras/backend/tensorflow_backend.py:541: The name tf.placeholder is deprecated. Please use tf.compat.v1.placeholder instead.\n",
      "\n",
      "W0128 10:20:14.535627 35184372372032 module_wrapper.py:139] From /net/service0005/share/systems/satori-portal.mit.edu/software/anaconda3/2019.10_powerai_ood/envs/powerai/lib/python3.7/site-packages/keras/backend/tensorflow_backend.py:4479: The name tf.truncated_normal is deprecated. Please use tf.random.truncated_normal instead.\n",
      "\n",
      "W0128 10:20:14.550459 35184372372032 module_wrapper.py:139] From /net/service0005/share/systems/satori-portal.mit.edu/software/anaconda3/2019.10_powerai_ood/envs/powerai/lib/python3.7/site-packages/keras/backend/tensorflow_backend.py:4432: The name tf.random_uniform is deprecated. Please use tf.random.uniform instead.\n",
      "\n"
     ]
    }
   ],
   "source": [
    "#Use the keras's sequential API \n",
    "#First dense layer takes an input parameter as 256 (number of neurons in the first layer).\n",
    "#The second parameter \"input_dim\" corresponds to the input features. \n",
    "#Use \"relu\" as activation function.\n",
    "#The activation function for last dense layer is \"softmax\" because of the multiple classes, further explained in document.\n",
    "#Set dropout for 10%. \n",
    "model1 = Sequential()\n",
    "model1.add(Dense(64, input_dim = 120, activation = \"relu\", kernel_initializer = \"lecun_normal\"))\n",
    "model1.add(Dense(128, activation = \"relu\"))\n",
    "model1.add(Dense(5, activation = \"softmax\"))"
   ]
  },
  {
   "cell_type": "code",
   "execution_count": 19,
   "metadata": {
    "scrolled": true
   },
   "outputs": [
    {
     "name": "stdout",
     "output_type": "stream",
     "text": [
      "Model: \"sequential_1\"\n",
      "_________________________________________________________________\n",
      "Layer (type)                 Output Shape              Param #   \n",
      "=================================================================\n",
      "dense_1 (Dense)              (None, 64)                7744      \n",
      "_________________________________________________________________\n",
      "dense_2 (Dense)              (None, 128)               8320      \n",
      "_________________________________________________________________\n",
      "dense_3 (Dense)              (None, 5)                 645       \n",
      "=================================================================\n",
      "Total params: 16,709\n",
      "Trainable params: 16,709\n",
      "Non-trainable params: 0\n",
      "_________________________________________________________________\n"
     ]
    }
   ],
   "source": [
    "#Summary of model architecture listing information about parameters per layer. \n",
    "model1.summary()"
   ]
  },
  {
   "cell_type": "code",
   "execution_count": 20,
   "metadata": {},
   "outputs": [
    {
     "name": "stderr",
     "output_type": "stream",
     "text": [
      "W0128 10:20:47.048588 35184372372032 module_wrapper.py:139] From /net/service0005/share/systems/satori-portal.mit.edu/software/anaconda3/2019.10_powerai_ood/envs/powerai/lib/python3.7/site-packages/keras/optimizers.py:793: The name tf.train.Optimizer is deprecated. Please use tf.compat.v1.train.Optimizer instead.\n",
      "\n",
      "W0128 10:20:47.056501 35184372372032 module_wrapper.py:139] From /net/service0005/share/systems/satori-portal.mit.edu/software/anaconda3/2019.10_powerai_ood/envs/powerai/lib/python3.7/site-packages/keras/backend/tensorflow_backend.py:3576: The name tf.log is deprecated. Please use tf.math.log instead.\n",
      "\n"
     ]
    }
   ],
   "source": [
    "#Three paramaters: \n",
    "#Loss - The loss function.\n",
    "#Optimizer - To minimize the loss function.\n",
    "#Metrics - The mode of evaluation for our model.\n",
    "#\"categorical_loss\" - is used because of the multi-class classifcation problem.\n",
    "#\"adam\" - The updated version of SGD.\n",
    "optim = optimizers.SGD(lr = 0.0001)\n",
    "model1.compile(loss = 'categorical_crossentropy', optimizer = optim, metrics = ['accuracy'])"
   ]
  },
  {
   "cell_type": "code",
   "execution_count": 21,
   "metadata": {},
   "outputs": [
    {
     "name": "stderr",
     "output_type": "stream",
     "text": [
      "W0128 10:20:56.260170 35184372372032 deprecation.py:323] From /net/service0005/share/systems/satori-portal.mit.edu/software/anaconda3/2019.10_powerai_ood/envs/powerai/lib/python3.7/site-packages/tensorflow_core/python/ops/math_grad.py:1424: where (from tensorflow.python.ops.array_ops) is deprecated and will be removed in a future version.\n",
      "Instructions for updating:\n",
      "Use tf.where in 2.0, which has the same broadcast rule as np.where\n",
      "W0128 10:20:56.317167 35184372372032 module_wrapper.py:139] From /net/service0005/share/systems/satori-portal.mit.edu/software/anaconda3/2019.10_powerai_ood/envs/powerai/lib/python3.7/site-packages/keras/backend/tensorflow_backend.py:1033: The name tf.assign_add is deprecated. Please use tf.compat.v1.assign_add instead.\n",
      "\n",
      "W0128 10:20:56.344094 35184372372032 module_wrapper.py:139] From /net/service0005/share/systems/satori-portal.mit.edu/software/anaconda3/2019.10_powerai_ood/envs/powerai/lib/python3.7/site-packages/keras/backend/tensorflow_backend.py:1020: The name tf.assign is deprecated. Please use tf.compat.v1.assign instead.\n",
      "\n",
      "W0128 10:20:56.368747 35184372372032 module_wrapper.py:139] From /net/service0005/share/systems/satori-portal.mit.edu/software/anaconda3/2019.10_powerai_ood/envs/powerai/lib/python3.7/site-packages/keras/backend/tensorflow_backend.py:3005: The name tf.Session is deprecated. Please use tf.compat.v1.Session instead.\n",
      "\n",
      "W0128 10:20:56.377340 35184372372032 module_wrapper.py:139] From /net/service0005/share/systems/satori-portal.mit.edu/software/anaconda3/2019.10_powerai_ood/envs/powerai/lib/python3.7/site-packages/keras/backend/tensorflow_backend.py:190: The name tf.get_default_session is deprecated. Please use tf.compat.v1.get_default_session instead.\n",
      "\n",
      "W0128 10:20:56.377953 35184372372032 module_wrapper.py:139] From /net/service0005/share/systems/satori-portal.mit.edu/software/anaconda3/2019.10_powerai_ood/envs/powerai/lib/python3.7/site-packages/keras/backend/tensorflow_backend.py:200: The name tf.ConfigProto is deprecated. Please use tf.compat.v1.ConfigProto instead.\n",
      "\n"
     ]
    },
    {
     "name": "stdout",
     "output_type": "stream",
     "text": [
      "Train on 100778 samples, validate on 25195 samples\n",
      "Epoch 1/20\n"
     ]
    },
    {
     "name": "stderr",
     "output_type": "stream",
     "text": [
      "W0128 10:20:57.697775 35184372372032 module_wrapper.py:139] From /net/service0005/share/systems/satori-portal.mit.edu/software/anaconda3/2019.10_powerai_ood/envs/powerai/lib/python3.7/site-packages/keras/backend/tensorflow_backend.py:207: The name tf.global_variables is deprecated. Please use tf.compat.v1.global_variables instead.\n",
      "\n",
      "W0128 10:20:57.700337 35184372372032 module_wrapper.py:139] From /net/service0005/share/systems/satori-portal.mit.edu/software/anaconda3/2019.10_powerai_ood/envs/powerai/lib/python3.7/site-packages/keras/backend/tensorflow_backend.py:216: The name tf.is_variable_initialized is deprecated. Please use tf.compat.v1.is_variable_initialized instead.\n",
      "\n",
      "W0128 10:20:58.423499 35184372372032 module_wrapper.py:139] From /net/service0005/share/systems/satori-portal.mit.edu/software/anaconda3/2019.10_powerai_ood/envs/powerai/lib/python3.7/site-packages/keras/backend/tensorflow_backend.py:223: The name tf.variables_initializer is deprecated. Please use tf.compat.v1.variables_initializer instead.\n",
      "\n"
     ]
    },
    {
     "name": "stdout",
     "output_type": "stream",
     "text": [
      "100778/100778 [==============================] - 11s 110us/step - loss: 1.3476 - acc: 0.6117 - val_loss: 1.0346 - val_acc: 0.8511\n",
      "Epoch 2/20\n",
      "100778/100778 [==============================] - 9s 85us/step - loss: 0.8406 - acc: 0.8766 - val_loss: 0.6801 - val_acc: 0.8922\n",
      "Epoch 3/20\n",
      "100778/100778 [==============================] - 9s 88us/step - loss: 0.5775 - acc: 0.9061 - val_loss: 0.4879 - val_acc: 0.9161\n",
      "Epoch 4/20\n",
      "100778/100778 [==============================] - 9s 89us/step - loss: 0.4332 - acc: 0.9216 - val_loss: 0.3801 - val_acc: 0.9240\n",
      "Epoch 5/20\n",
      "100778/100778 [==============================] - 9s 88us/step - loss: 0.3494 - acc: 0.9323 - val_loss: 0.3146 - val_acc: 0.9405\n",
      "Epoch 6/20\n",
      "100778/100778 [==============================] - 9s 88us/step - loss: 0.2961 - acc: 0.9468 - val_loss: 0.2709 - val_acc: 0.9503\n",
      "Epoch 7/20\n",
      "100778/100778 [==============================] - 9s 87us/step - loss: 0.2591 - acc: 0.9520 - val_loss: 0.2395 - val_acc: 0.9544\n",
      "Epoch 8/20\n",
      "100778/100778 [==============================] - 9s 88us/step - loss: 0.2316 - acc: 0.9549 - val_loss: 0.2154 - val_acc: 0.9565\n",
      "Epoch 9/20\n",
      "100778/100778 [==============================] - 9s 89us/step - loss: 0.2100 - acc: 0.9581 - val_loss: 0.1962 - val_acc: 0.9601\n",
      "Epoch 10/20\n",
      "100778/100778 [==============================] - 9s 89us/step - loss: 0.1923 - acc: 0.9607 - val_loss: 0.1804 - val_acc: 0.9620\n",
      "Epoch 11/20\n",
      "100778/100778 [==============================] - 9s 88us/step - loss: 0.1776 - acc: 0.9626 - val_loss: 0.1670 - val_acc: 0.9640\n",
      "Epoch 12/20\n",
      "100778/100778 [==============================] - 9s 88us/step - loss: 0.1650 - acc: 0.9641 - val_loss: 0.1556 - val_acc: 0.9652\n",
      "Epoch 13/20\n",
      "100778/100778 [==============================] - 9s 88us/step - loss: 0.1541 - acc: 0.9657 - val_loss: 0.1458 - val_acc: 0.9664\n",
      "Epoch 14/20\n",
      "100778/100778 [==============================] - 9s 89us/step - loss: 0.1448 - acc: 0.9669 - val_loss: 0.1372 - val_acc: 0.9675\n",
      "Epoch 15/20\n",
      "100778/100778 [==============================] - 9s 87us/step - loss: 0.1367 - acc: 0.9681 - val_loss: 0.1298 - val_acc: 0.9686\n",
      "Epoch 16/20\n",
      "100778/100778 [==============================] - 9s 87us/step - loss: 0.1295 - acc: 0.9696 - val_loss: 0.1232 - val_acc: 0.9706\n",
      "Epoch 17/20\n",
      "100778/100778 [==============================] - 9s 88us/step - loss: 0.1232 - acc: 0.9706 - val_loss: 0.1173 - val_acc: 0.9711\n",
      "Epoch 18/20\n",
      "100778/100778 [==============================] - 9s 88us/step - loss: 0.1175 - acc: 0.9712 - val_loss: 0.1120 - val_acc: 0.9718\n",
      "Epoch 19/20\n",
      "100778/100778 [==============================] - 9s 87us/step - loss: 0.1125 - acc: 0.9719 - val_loss: 0.1073 - val_acc: 0.9720\n",
      "Epoch 20/20\n",
      "100778/100778 [==============================] - 9s 89us/step - loss: 0.1079 - acc: 0.9725 - val_loss: 0.1030 - val_acc: 0.9730\n"
     ]
    }
   ],
   "source": [
    "#Fit the model on our data.\n",
    "#X_train - The feature columns of the training data.\n",
    "#y_train - The labels columns of the training data.\n",
    "#validation_data - The validation data\n",
    "#batch_size and epochs further explained in document. \n",
    "history = model1.fit(X_train, y_train, \n",
    "          validation_data = (X_test, y_test),\n",
    "          batch_size = 32, \n",
    "          epochs = 20)"
   ]
  },
  {
   "cell_type": "code",
   "execution_count": 22,
   "metadata": {},
   "outputs": [
    {
     "data": {
      "text/plain": [
       "<matplotlib.legend.Legend at 0x2000c3ec3f90>"
      ]
     },
     "execution_count": 22,
     "metadata": {},
     "output_type": "execute_result"
    },
    {
     "data": {
      "image/png": "[encoded data removed]",
      "text/plain": [
       "<Figure size 1080x288 with 2 Axes>"
      ]
     },
     "metadata": {
      "needs_background": "light"
     },
     "output_type": "display_data"
    }
   ],
   "source": [
    "#use matplitlib to draw the plots\n",
    "plt.figure(figsize = (15, 4))\n",
    "plt.subplot(1, 2, 1)\n",
    "plt.plot(history.history['loss'], label = \"TRAINING LOSS\")\n",
    "plt.plot(history.history['val_loss'], label = \"VALIDATION LOSS\")\n",
    "plt.title(\"TRAINING LOSS vs VALIDATION LOSS\")\n",
    "plt.xlabel(\"EPOCH'S\")\n",
    "plt.ylabel(\"TRAINING LOSS vs VALIDATION LOSS\")\n",
    "plt.legend(loc = \"best\")\n",
    "\n",
    "plt.subplot(1, 2, 2)\n",
    "plt.plot(history.history['acc'], label = \"TRAINING ACCURACY\")\n",
    "plt.plot(history.history['val_acc'], label = \"VALIDATION ACCURACY\")\n",
    "plt.title(\"TRAINING ACCURACY vs VALIDATION ACCURACY\")\n",
    "plt.xlabel(\"EPOCH'S\")\n",
    "plt.ylabel(\"TRAINING ACC vs VALIDATION ACCURACY\")\n",
    "plt.legend(loc = \"best\")"
   ]
  },
  {
   "cell_type": "markdown",
   "metadata": {},
   "source": [
    "Explained in Results section."
   ]
  },
  {
   "cell_type": "markdown",
   "metadata": {},
   "source": [
    "Load and save model 1:"
   ]
  },
  {
   "cell_type": "code",
   "execution_count": 23,
   "metadata": {},
   "outputs": [
    {
     "name": "stdout",
     "output_type": "stream",
     "text": [
      "Saved model to disk\n"
     ]
    }
   ],
   "source": [
    "#Serialize model 1 , save with json. \n",
    "model_json = model1.to_json() \n",
    "with open(\"model1.json\", \"w\") as json_file:\n",
    "    json_file.write(model_json)\n",
    "model1.save_weights('model1_weights.h5')\n",
    "print(\"Saved model to disk\")"
   ]
  },
  {
   "cell_type": "code",
   "execution_count": 24,
   "metadata": {},
   "outputs": [
    {
     "name": "stdout",
     "output_type": "stream",
     "text": [
      "Loaded model from disk\n"
     ]
    }
   ],
   "source": [
    "# load model 1. \n",
    "json_file = open(\"model1.json\", \"r\") \n",
    "loaded_model_json = json_file.read() \n",
    "json_file.close() \n",
    "loaded_model = model_from_json(loaded_model_json) \n",
    "loaded_model.load_weights(\"model1_weights.h5\")\n",
    "print(\"Loaded model from disk\")"
   ]
  },
  {
   "cell_type": "markdown",
   "metadata": {},
   "source": [
    "Model 2: "
   ]
  },
  {
   "cell_type": "markdown",
   "metadata": {},
   "source": [
    "Single Dense Hidden Layer with Output Layer"
   ]
  },
  {
   "cell_type": "code",
   "execution_count": 25,
   "metadata": {},
   "outputs": [
    {
     "name": "stderr",
     "output_type": "stream",
     "text": [
      "W0128 10:30:47.205537 35184372372032 module_wrapper.py:139] From /net/service0005/share/systems/satori-portal.mit.edu/software/anaconda3/2019.10_powerai_ood/envs/powerai/lib/python3.7/site-packages/keras/backend/tensorflow_backend.py:148: The name tf.placeholder_with_default is deprecated. Please use tf.compat.v1.placeholder_with_default instead.\n",
      "\n",
      "W0128 10:30:47.224908 35184372372032 deprecation.py:506] From /net/service0005/share/systems/satori-portal.mit.edu/software/anaconda3/2019.10_powerai_ood/envs/powerai/lib/python3.7/site-packages/keras/backend/tensorflow_backend.py:3733: calling dropout (from tensorflow.python.ops.nn_ops) with keep_prob is deprecated and will be removed in a future version.\n",
      "Instructions for updating:\n",
      "Please use `rate` instead of `keep_prob`. Rate should be set to `rate = 1 - keep_prob`.\n"
     ]
    }
   ],
   "source": [
    "model2 = Sequential()\n",
    "model2.add(Dense(32, input_dim = 120, activation = \"relu\", kernel_initializer = \"lecun_normal\"))\n",
    "model2.add(BatchNormalization())\n",
    "model2.add(Dropout(0.2))\n",
    "model2.add(Dense(32, activation = \"relu\"))\n",
    "model2.add(Dense(5, activation = \"softmax\"))"
   ]
  },
  {
   "cell_type": "code",
   "execution_count": 26,
   "metadata": {},
   "outputs": [
    {
     "name": "stdout",
     "output_type": "stream",
     "text": [
      "Model: \"sequential_2\"\n",
      "_________________________________________________________________\n",
      "Layer (type)                 Output Shape              Param #   \n",
      "=================================================================\n",
      "dense_4 (Dense)              (None, 32)                3872      \n",
      "_________________________________________________________________\n",
      "batch_normalization_1 (Batch (None, 32)                128       \n",
      "_________________________________________________________________\n",
      "dropout_1 (Dropout)          (None, 32)                0         \n",
      "_________________________________________________________________\n",
      "dense_5 (Dense)              (None, 32)                1056      \n",
      "_________________________________________________________________\n",
      "dense_6 (Dense)              (None, 5)                 165       \n",
      "=================================================================\n",
      "Total params: 5,221\n",
      "Trainable params: 5,157\n",
      "Non-trainable params: 64\n",
      "_________________________________________________________________\n"
     ]
    }
   ],
   "source": [
    "#List summary again \n",
    "model2.summary()"
   ]
  },
  {
   "cell_type": "code",
   "execution_count": 27,
   "metadata": {},
   "outputs": [],
   "source": [
    "#SGD used instead of Adam!\n",
    "optim2 = optimizers.Adam(lr = 0.0001)\n",
    "model2.compile(loss = 'categorical_crossentropy', optimizer = optim, metrics = ['accuracy'])"
   ]
  },
  {
   "cell_type": "code",
   "execution_count": 28,
   "metadata": {},
   "outputs": [
    {
     "name": "stdout",
     "output_type": "stream",
     "text": [
      "Train on 100778 samples, validate on 25195 samples\n",
      "Epoch 1/30\n",
      "100778/100778 [==============================] - 14s 138us/step - loss: 1.5872 - acc: 0.4137 - val_loss: 1.1815 - val_acc: 0.7023\n",
      "Epoch 2/30\n",
      "100778/100778 [==============================] - 13s 133us/step - loss: 0.9622 - acc: 0.7240 - val_loss: 0.8227 - val_acc: 0.8278\n",
      "Epoch 3/30\n",
      "100778/100778 [==============================] - 14s 135us/step - loss: 0.6636 - acc: 0.8290 - val_loss: 0.5751 - val_acc: 0.8977\n",
      "Epoch 4/30\n",
      "100778/100778 [==============================] - 14s 136us/step - loss: 0.5106 - acc: 0.8705 - val_loss: 0.4532 - val_acc: 0.9197\n",
      "Epoch 5/30\n",
      "100778/100778 [==============================] - 14s 136us/step - loss: 0.4249 - acc: 0.8901 - val_loss: 0.3513 - val_acc: 0.9318\n",
      "Epoch 6/30\n",
      "100778/100778 [==============================] - 14s 136us/step - loss: 0.3675 - acc: 0.9063 - val_loss: 0.3211 - val_acc: 0.9478\n",
      "Epoch 7/30\n",
      "100778/100778 [==============================] - 14s 135us/step - loss: 0.3245 - acc: 0.9178 - val_loss: 0.2959 - val_acc: 0.9530\n",
      "Epoch 8/30\n",
      "100778/100778 [==============================] - 14s 134us/step - loss: 0.2936 - acc: 0.9248 - val_loss: 0.2573 - val_acc: 0.9535\n",
      "Epoch 9/30\n",
      "100778/100778 [==============================] - 14s 136us/step - loss: 0.2673 - acc: 0.9316 - val_loss: 0.2273 - val_acc: 0.9562\n",
      "Epoch 10/30\n",
      "100778/100778 [==============================] - 14s 136us/step - loss: 0.2489 - acc: 0.9363 - val_loss: 0.2022 - val_acc: 0.9580\n",
      "Epoch 11/30\n",
      "100778/100778 [==============================] - 14s 135us/step - loss: 0.2286 - acc: 0.9412 - val_loss: 0.1969 - val_acc: 0.9599\n",
      "Epoch 12/30\n",
      "100778/100778 [==============================] - 14s 135us/step - loss: 0.2150 - acc: 0.9449 - val_loss: 0.1856 - val_acc: 0.9612\n",
      "Epoch 13/30\n",
      "100778/100778 [==============================] - 13s 133us/step - loss: 0.2029 - acc: 0.9472 - val_loss: 0.1784 - val_acc: 0.9633\n",
      "Epoch 14/30\n",
      "100778/100778 [==============================] - 14s 134us/step - loss: 0.1907 - acc: 0.9500 - val_loss: 0.1519 - val_acc: 0.9649\n",
      "Epoch 15/30\n",
      "100778/100778 [==============================] - 14s 134us/step - loss: 0.1828 - acc: 0.9511 - val_loss: 0.1485 - val_acc: 0.9667\n",
      "Epoch 16/30\n",
      "100778/100778 [==============================] - 13s 132us/step - loss: 0.1726 - acc: 0.9536 - val_loss: 0.1402 - val_acc: 0.9673\n",
      "Epoch 17/30\n",
      "100778/100778 [==============================] - 13s 133us/step - loss: 0.1667 - acc: 0.9547 - val_loss: 0.1386 - val_acc: 0.9688\n",
      "Epoch 18/30\n",
      "100778/100778 [==============================] - 13s 134us/step - loss: 0.1581 - acc: 0.9566 - val_loss: 0.1271 - val_acc: 0.9680\n",
      "Epoch 19/30\n",
      "100778/100778 [==============================] - 13s 134us/step - loss: 0.1514 - acc: 0.9580 - val_loss: 0.1250 - val_acc: 0.9695\n",
      "Epoch 20/30\n",
      "100778/100778 [==============================] - 14s 134us/step - loss: 0.1438 - acc: 0.9599 - val_loss: 0.1161 - val_acc: 0.9705\n",
      "Epoch 21/30\n",
      "100778/100778 [==============================] - 13s 132us/step - loss: 0.1399 - acc: 0.9606 - val_loss: 0.1117 - val_acc: 0.9709\n",
      "Epoch 22/30\n",
      "100778/100778 [==============================] - 13s 133us/step - loss: 0.1353 - acc: 0.9623 - val_loss: 0.1071 - val_acc: 0.9711\n",
      "Epoch 23/30\n",
      "100778/100778 [==============================] - 13s 131us/step - loss: 0.1309 - acc: 0.9632 - val_loss: 0.1010 - val_acc: 0.9713\n",
      "Epoch 24/30\n",
      "100778/100778 [==============================] - 13s 131us/step - loss: 0.1267 - acc: 0.9645 - val_loss: 0.0997 - val_acc: 0.9726\n",
      "Epoch 25/30\n",
      "100778/100778 [==============================] - 14s 134us/step - loss: 0.1233 - acc: 0.9649 - val_loss: 0.0948 - val_acc: 0.9732\n",
      "Epoch 26/30\n",
      "100778/100778 [==============================] - 14s 136us/step - loss: 0.1202 - acc: 0.9660 - val_loss: 0.0919 - val_acc: 0.9737\n",
      "Epoch 27/30\n",
      "100778/100778 [==============================] - 13s 133us/step - loss: 0.1158 - acc: 0.9671 - val_loss: 0.0941 - val_acc: 0.9747\n",
      "Epoch 28/30\n",
      "100778/100778 [==============================] - 13s 133us/step - loss: 0.1122 - acc: 0.9683 - val_loss: 0.0862 - val_acc: 0.9773\n",
      "Epoch 29/30\n",
      "100778/100778 [==============================] - 13s 133us/step - loss: 0.1110 - acc: 0.9689 - val_loss: 0.0820 - val_acc: 0.9780\n",
      "Epoch 30/30\n",
      "100778/100778 [==============================] - 13s 132us/step - loss: 0.1084 - acc: 0.9693 - val_loss: 0.0828 - val_acc: 0.9788\n"
     ]
    }
   ],
   "source": [
    "#Train model and validate. \n",
    "history2 = model2.fit(X_train, y_train, \n",
    "           batch_size = 32, \n",
    "           epochs = 30, \n",
    "           validation_data = (X_test, y_test))"
   ]
  },
  {
   "cell_type": "code",
   "execution_count": 29,
   "metadata": {},
   "outputs": [
    {
     "data": {
      "text/plain": [
       "<matplotlib.legend.Legend at 0x2000fff67dd0>"
      ]
     },
     "execution_count": 29,
     "metadata": {},
     "output_type": "execute_result"
    },
    {
     "data": {
      "image/png": "[encoded data removed]",
      "text/plain": [
       "<Figure size 1080x288 with 2 Axes>"
      ]
     },
     "metadata": {
      "needs_background": "light"
     },
     "output_type": "display_data"
    }
   ],
   "source": [
    "plt.figure(figsize = (15, 4))\n",
    "plt.subplot(1, 2, 1) \n",
    "plt.plot(history2.history['loss'], label = \"TRAINING LOSS\") \n",
    "plt.plot(history2.history['val_loss'], label = \"VALIDATION LOSS\") \n",
    "plt.title(\"TRAINING LOSS vs VALIDATION LOSS\")\n",
    "plt.xlabel(\"EPOCH'S\") \n",
    "plt.ylabel(\"TRAINING ACC vs VALIDATION LOSS\") \n",
    "plt.legend(loc = \"best\") \n",
    "\n",
    "plt.subplot(1, 2, 2)\n",
    "plt.plot(history2.history['acc'], label = \"TRAINING ACCURACY\") \n",
    "plt.plot(history2.history['val_acc'], label = \"VALIDATION ACCURACY\") \n",
    "plt.title(\"TRAINING ACCURACY vs VALIDATION ACCURACY\") \n",
    "plt.xlabel(\"EPOCH'S\") \n",
    "plt.ylabel(\"TRAINING ACC vs VALIDATION ACCURACY\") \n",
    "plt.legend(loc = \"best\") "
   ]
  },
  {
   "cell_type": "markdown",
   "metadata": {},
   "source": [
    "Explained in results section. "
   ]
  },
  {
   "cell_type": "code",
   "execution_count": null,
   "metadata": {},
   "outputs": [],
   "source": []
  },
  {
   "cell_type": "code",
   "execution_count": null,
   "metadata": {},
   "outputs": [],
   "source": []
  },
  {
   "cell_type": "code",
   "execution_count": null,
   "metadata": {},
   "outputs": [],
   "source": []
  },
  {
   "cell_type": "code",
   "execution_count": null,
   "metadata": {},
   "outputs": [],
   "source": []
  }
 ],
 "metadata": {
  "kernelspec": {
   "display_name": "Python 3 PowerAI",
   "language": "python",
   "name": "python3"
  },
  "language_info": {
   "codemirror_mode": {
    "name": "ipython",
    "version": 3
   },
   "file_extension": ".py",
   "mimetype": "text/x-python",
   "name": "python",
   "nbconvert_exporter": "python",
   "pygments_lexer": "ipython3",
   "version": "3.7.6"
  }
 },
 "nbformat": 4,
 "nbformat_minor": 4
}
